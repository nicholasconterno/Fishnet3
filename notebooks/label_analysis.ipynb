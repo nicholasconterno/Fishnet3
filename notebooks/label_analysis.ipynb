{
 "cells": [
  {
   "cell_type": "code",
   "execution_count": 30,
   "metadata": {},
   "outputs": [
    {
     "data": {
      "text/html": [
       "<div>\n",
       "<style scoped>\n",
       "    .dataframe tbody tr th:only-of-type {\n",
       "        vertical-align: middle;\n",
       "    }\n",
       "\n",
       "    .dataframe tbody tr th {\n",
       "        vertical-align: top;\n",
       "    }\n",
       "\n",
       "    .dataframe thead th {\n",
       "        text-align: right;\n",
       "    }\n",
       "</style>\n",
       "<table border=\"1\" class=\"dataframe\">\n",
       "  <thead>\n",
       "    <tr style=\"text-align: right;\">\n",
       "      <th></th>\n",
       "      <th>img_id</th>\n",
       "      <th>cam_id</th>\n",
       "      <th>seq_id</th>\n",
       "      <th>frame_id</th>\n",
       "      <th>bbox_id</th>\n",
       "      <th>x_min</th>\n",
       "      <th>x_max</th>\n",
       "      <th>y_min</th>\n",
       "      <th>y_max</th>\n",
       "      <th>label_l1</th>\n",
       "      <th>label_l2</th>\n",
       "      <th>fao_mfa</th>\n",
       "      <th>train</th>\n",
       "      <th>val</th>\n",
       "      <th>test</th>\n",
       "    </tr>\n",
       "  </thead>\n",
       "  <tbody>\n",
       "    <tr>\n",
       "      <th>0</th>\n",
       "      <td>da7c5ef0-db28-11ea-b693-9b3523cc10a5</td>\n",
       "      <td>60</td>\n",
       "      <td>13209</td>\n",
       "      <td>33</td>\n",
       "      <td>1</td>\n",
       "      <td>626</td>\n",
       "      <td>754</td>\n",
       "      <td>-1</td>\n",
       "      <td>88</td>\n",
       "      <td>Human</td>\n",
       "      <td>HUMAN</td>\n",
       "      <td>81</td>\n",
       "      <td>True</td>\n",
       "      <td>False</td>\n",
       "      <td>False</td>\n",
       "    </tr>\n",
       "    <tr>\n",
       "      <th>1</th>\n",
       "      <td>da7c5ef0-db28-11ea-b693-9b3523cc10a5</td>\n",
       "      <td>60</td>\n",
       "      <td>13209</td>\n",
       "      <td>33</td>\n",
       "      <td>3</td>\n",
       "      <td>544</td>\n",
       "      <td>710</td>\n",
       "      <td>15</td>\n",
       "      <td>203</td>\n",
       "      <td>Human</td>\n",
       "      <td>HUMAN</td>\n",
       "      <td>81</td>\n",
       "      <td>True</td>\n",
       "      <td>False</td>\n",
       "      <td>False</td>\n",
       "    </tr>\n",
       "    <tr>\n",
       "      <th>2</th>\n",
       "      <td>da7c5ef0-db28-11ea-b693-9b3523cc10a5</td>\n",
       "      <td>60</td>\n",
       "      <td>13209</td>\n",
       "      <td>33</td>\n",
       "      <td>4</td>\n",
       "      <td>629</td>\n",
       "      <td>735</td>\n",
       "      <td>210</td>\n",
       "      <td>562</td>\n",
       "      <td>Human</td>\n",
       "      <td>HUMAN</td>\n",
       "      <td>81</td>\n",
       "      <td>True</td>\n",
       "      <td>False</td>\n",
       "      <td>False</td>\n",
       "    </tr>\n",
       "    <tr>\n",
       "      <th>3</th>\n",
       "      <td>da7c5ef0-db28-11ea-b693-9b3523cc10a5</td>\n",
       "      <td>60</td>\n",
       "      <td>13209</td>\n",
       "      <td>33</td>\n",
       "      <td>5</td>\n",
       "      <td>615</td>\n",
       "      <td>883</td>\n",
       "      <td>550</td>\n",
       "      <td>907</td>\n",
       "      <td>Human</td>\n",
       "      <td>HUMAN</td>\n",
       "      <td>81</td>\n",
       "      <td>True</td>\n",
       "      <td>False</td>\n",
       "      <td>False</td>\n",
       "    </tr>\n",
       "    <tr>\n",
       "      <th>4</th>\n",
       "      <td>da7c5ef0-db28-11ea-b693-9b3523cc10a5</td>\n",
       "      <td>60</td>\n",
       "      <td>13209</td>\n",
       "      <td>33</td>\n",
       "      <td>6</td>\n",
       "      <td>885</td>\n",
       "      <td>962</td>\n",
       "      <td>826</td>\n",
       "      <td>875</td>\n",
       "      <td>Unknown</td>\n",
       "      <td>OTH</td>\n",
       "      <td>81</td>\n",
       "      <td>True</td>\n",
       "      <td>False</td>\n",
       "      <td>False</td>\n",
       "    </tr>\n",
       "  </tbody>\n",
       "</table>\n",
       "</div>"
      ],
      "text/plain": [
       "                                 img_id  cam_id  seq_id  frame_id  bbox_id  \\\n",
       "0  da7c5ef0-db28-11ea-b693-9b3523cc10a5      60   13209        33        1   \n",
       "1  da7c5ef0-db28-11ea-b693-9b3523cc10a5      60   13209        33        3   \n",
       "2  da7c5ef0-db28-11ea-b693-9b3523cc10a5      60   13209        33        4   \n",
       "3  da7c5ef0-db28-11ea-b693-9b3523cc10a5      60   13209        33        5   \n",
       "4  da7c5ef0-db28-11ea-b693-9b3523cc10a5      60   13209        33        6   \n",
       "\n",
       "   x_min  x_max  y_min  y_max label_l1 label_l2  fao_mfa  train    val   test  \n",
       "0    626    754     -1     88    Human    HUMAN       81   True  False  False  \n",
       "1    544    710     15    203    Human    HUMAN       81   True  False  False  \n",
       "2    629    735    210    562    Human    HUMAN       81   True  False  False  \n",
       "3    615    883    550    907    Human    HUMAN       81   True  False  False  \n",
       "4    885    962    826    875  Unknown      OTH       81   True  False  False  "
      ]
     },
     "execution_count": 30,
     "metadata": {},
     "output_type": "execute_result"
    }
   ],
   "source": [
    "#import only labels from /Users/nicholasconterno/Fishnet3/data/fishnet_labels.csv \n",
    "import pandas as pd\n",
    "#import file\n",
    "labels = pd.read_csv('../data/fishnet_labels.csv')\n",
    "labels.head()"
   ]
  },
  {
   "cell_type": "code",
   "execution_count": 31,
   "metadata": {},
   "outputs": [],
   "source": [
    "#read from uploadedfiles.txt\n",
    "# Path to your text file\n",
    "file_path = '../uploadedfiles.txt'\n",
    "\n",
    "# Initialize an empty list to store the URLs\n",
    "url_list = []\n",
    "\n",
    "# Open the file and read line by line\n",
    "with open(file_path, 'r',encoding='utf-16') as file:\n",
    "    for line in file:\n",
    "        # Strip newline and whitespace characters and then add to the list\n",
    "        url = line.strip()\n",
    "        if url:  # Check if the line is not empty\n",
    "            fileName = url.split('fishnet3-object-detection/')[1][:-4]\n",
    "            url_list.append(fileName)\n",
    "img_id_list= url_list[1:]\n"
   ]
  },
  {
   "cell_type": "code",
   "execution_count": 32,
   "metadata": {},
   "outputs": [
    {
     "name": "stdout",
     "output_type": "stream",
     "text": [
      "Filtered CSV saved as: ../data/fishnet_labels_in_bucket.csv\n"
     ]
    }
   ],
   "source": [
    "\n",
    "\n",
    "# Filter the DataFrame to keep rows where img_id is in img_id_list\n",
    "filtered_df = labels[labels['img_id'].isin(img_id_list)]\n",
    "fishes_to_remove = ['Mola mola', 'Roudie scolar', 'Snake mackerel', 'Rainbow runner', 'Thresher shark', 'Brama']\n",
    "filtered_df = filtered_df[~filtered_df['label_l1'].isin(fishes_to_remove)]\n",
    "\n",
    "#add a column is_fish to the filtered_df\n",
    "no_fish = ['Human', 'Unknown', 'No fish', 'Water']\n",
    "filtered_df['is_fish'] = ~filtered_df['label_l1'].isin(no_fish)\n",
    "# Path for the new CSV file\n",
    "new_csv_file_path = '../data/fishnet_labels_in_bucket.csv'\n",
    "\n",
    "# Save the filtered DataFrame to a new CSV file\n",
    "filtered_df.to_csv(new_csv_file_path, index=False)\n",
    "\n",
    "print(\"Filtered CSV saved as:\", new_csv_file_path)\n"
   ]
  },
  {
   "cell_type": "code",
   "execution_count": 33,
   "metadata": {},
   "outputs": [
    {
     "name": "stdout",
     "output_type": "stream",
     "text": [
      "Number of unique img_id: 115614\n"
     ]
    }
   ],
   "source": [
    "#read pandas from csv\n",
    "df = pd.read_csv('../data/fishnet_labels_in_bucket.csv')\n",
    "# print number of unique img_id\n",
    "print(\"Number of unique img_id:\", df['img_id'].nunique())\n",
    "\n",
    "\n"
   ]
  },
  {
   "cell_type": "code",
   "execution_count": 34,
   "metadata": {},
   "outputs": [
    {
     "name": "stdout",
     "output_type": "stream",
     "text": [
      "da7c5ef0-db28-11ea-b693-9b3523cc10a5 [False, [(('626', '754'), ('-1', '88'), 'Human'), (('544', '710'), ('15', '203'), 'Human'), (('629', '735'), ('210', '562'), 'Human'), (('615', '883'), ('550', '907'), 'Human'), (('885', '962'), ('826', '875'), 'Unknown')]]\n",
      "da7b73f0-db28-11ea-b585-db222369d02d [False, [(('264', '440'), ('319', '625'), 'Human'), (('600', '728'), ('-2', '177'), 'Human'), (('583', '781'), ('250', '590'), 'Human'), (('493', '626'), ('457', '732'), 'Human'), (('603', '851'), ('560', '980'), 'Human'), (('914', '1002'), ('908', '1029'), 'Unknown')]]\n",
      "da4b3cee-db28-11ea-b10d-bbe56eb82b48 [True, [(('38', '194'), ('0', '198'), 'Human'), (('1178', '1342'), ('86', '278'), 'Human'), (('1153', '1254'), ('253', '344'), 'Yellowfin tuna')]]\n",
      "94dd66c8-23f0-11e9-b4f7-7feec33e644c [True, [(('0', '183'), ('392', '669'), 'Human'), (('168', '343'), ('81', '407'), 'Human'), (('78', '376'), ('542', '666'), 'Albacore'), (('0', '126'), ('3', '141'), 'Human')]]\n",
      "fc4bdea8-5952-11ec-97e5-dbbed9401b90 [True, [(('71', '222'), ('209', '354'), 'Yellowfin tuna')]]\n",
      "94b080fe-23f0-11e9-ae46-fbc21443401c [True, [(('679', '1029'), ('0', '214'), 'Human'), (('1016', '1279'), ('323', '518'), 'Human'), (('46', '546'), ('14', '344'), 'Human'), (('315', '686'), ('372', '543'), 'Albacore'), (('844', '1134'), ('484', '591'), 'Albacore')]]\n",
      "fc4b5cb2-5952-11ec-96c3-4b67933b0949 [True, [(('178', '455'), ('584', '726'), 'Yellowfin tuna'), (('304', '558'), ('401', '543'), 'Yellowfin tuna'), (('178', '455'), ('584', '726'), 'Yellowfin tuna'), (('304', '558'), ('401', '543'), 'Yellowfin tuna'), (('178', '455'), ('584', '726'), 'Yellowfin tuna'), (('304', '558'), ('401', '543'), 'Yellowfin tuna')]]\n",
      "fc4b68f6-5952-11ec-96dd-5bd5584cfd53 [True, [(('242', '538'), ('514', '651'), 'Yellowfin tuna'), (('166', '466'), ('605', '738'), 'Yellowfin tuna'), (('242', '538'), ('514', '651'), 'Yellowfin tuna'), (('166', '466'), ('605', '738'), 'Yellowfin tuna'), (('242', '538'), ('514', '651'), 'Yellowfin tuna'), (('166', '466'), ('605', '738'), 'Yellowfin tuna')]]\n",
      "da4bc4de-db28-11ea-b25d-b74fc290d782 [True, [(('95', '166'), ('0', '93'), 'Human'), (('847', '984'), ('0', '199'), 'Human'), (('934', '999'), ('48', '257'), 'Albacore'), (('986', '1224'), ('0', '341'), 'Human')]]\n",
      "94f95662-23f0-11e9-bbc3-47cf3594890d [True, [(('572', '1020'), ('498', '732'), 'Yellowfin tuna'), (('499', '751'), ('200', '492'), 'Human'), (('313', '511'), ('215', '581'), 'Human'), (('226', '368'), ('118', '436'), 'Human'), (('543', '656'), ('0', '240'), 'Human')]]\n"
     ]
    }
   ],
   "source": [
    "import sys\n",
    "\n",
    "# Replace 'path/to/my_folder' with the path to the folder containing your script\n",
    "folder_path = '../data-preprocessing/'\n",
    "sys.path.append(folder_path)\n",
    "\n",
    "# Now import the specific function from the script\n",
    "from label_parser import process_data\n",
    "\n",
    "imageSet = process_data('../data/fishnet_labels_in_bucket.csv')\n",
    "count = 0\n",
    "for key in imageSet.keys():\n",
    "    if count < 10:\n",
    "        print(key, (imageSet[key]))\n",
    "        count += 1\n",
    "\n"
   ]
  },
  {
   "cell_type": "code",
   "execution_count": 35,
   "metadata": {},
   "outputs": [
    {
     "name": "stdout",
     "output_type": "stream",
     "text": [
      "da4b3cee-db28-11ea-b10d-bbe56eb82b48 [True, [(('38', '194'), ('0', '198'), 'Human'), (('1178', '1342'), ('86', '278'), 'Human'), (('1153', '1254'), ('253', '344'), 'Yellowfin tuna')]]\n",
      "94dd66c8-23f0-11e9-b4f7-7feec33e644c [True, [(('0', '183'), ('392', '669'), 'Human'), (('168', '343'), ('81', '407'), 'Human'), (('78', '376'), ('542', '666'), 'Albacore'), (('0', '126'), ('3', '141'), 'Human')]]\n",
      "fc4bdea8-5952-11ec-97e5-dbbed9401b90 [True, [(('71', '222'), ('209', '354'), 'Yellowfin tuna')]]\n",
      "94b080fe-23f0-11e9-ae46-fbc21443401c [True, [(('679', '1029'), ('0', '214'), 'Human'), (('1016', '1279'), ('323', '518'), 'Human'), (('46', '546'), ('14', '344'), 'Human'), (('315', '686'), ('372', '543'), 'Albacore'), (('844', '1134'), ('484', '591'), 'Albacore')]]\n",
      "fc4b5cb2-5952-11ec-96c3-4b67933b0949 [True, [(('178', '455'), ('584', '726'), 'Yellowfin tuna'), (('304', '558'), ('401', '543'), 'Yellowfin tuna'), (('178', '455'), ('584', '726'), 'Yellowfin tuna'), (('304', '558'), ('401', '543'), 'Yellowfin tuna'), (('178', '455'), ('584', '726'), 'Yellowfin tuna'), (('304', '558'), ('401', '543'), 'Yellowfin tuna')]]\n",
      "da7c5ef0-db28-11ea-b693-9b3523cc10a5 [False, [(('626', '754'), ('-1', '88'), 'Human'), (('544', '710'), ('15', '203'), 'Human'), (('629', '735'), ('210', '562'), 'Human'), (('615', '883'), ('550', '907'), 'Human'), (('885', '962'), ('826', '875'), 'Unknown')]]\n",
      "da7b73f0-db28-11ea-b585-db222369d02d [False, [(('264', '440'), ('319', '625'), 'Human'), (('600', '728'), ('-2', '177'), 'Human'), (('583', '781'), ('250', '590'), 'Human'), (('493', '626'), ('457', '732'), 'Human'), (('603', '851'), ('560', '980'), 'Human'), (('914', '1002'), ('908', '1029'), 'Unknown')]]\n",
      "da9120a6-db28-11ea-9d63-ef6f2e9f3726 [False, [(('196', '314'), ('688', '749'), 'Human'), (('561', '801'), ('484', '749'), 'Human'), (('918', '1108'), ('586', '749'), 'Human')]]\n",
      "da912380-db28-11ea-9d6a-fb153b2fe751 [False, [(('1065', '1241'), ('634', '749'), 'Human'), (('607', '888'), ('501', '749'), 'Human'), (('23', '156'), ('562', '749'), 'Human')]]\n",
      "da910878-db28-11ea-9d40-af0790207a45 [False, [(('100', '302'), ('461', '749'), 'Human'), (('573', '807'), ('512', '749'), 'Human'), (('1048', '1196'), ('619', '749'), 'Human')]]\n",
      "Filtered CSV saved as: ../data/fishnet_labels_FINAL.csv\n",
      "Saved 10,000 image IDs to imageIDs.txt\n"
     ]
    }
   ],
   "source": [
    "import random\n",
    "\n",
    "# Assuming 'data_map' is your dictionary\n",
    "true_ids = [img_id for img_id, data in imageSet.items() if data[0]]\n",
    "false_ids = [img_id for img_id, data in imageSet.items() if not data[0]]\n",
    "for id in true_ids[:5]:\n",
    "    print(id, imageSet[id])\n",
    "for id in false_ids[:5]:   \n",
    "    print(id, imageSet[id])\n",
    "# Randomly select 5000 IDs from each list\n",
    "selected_true_ids = random.sample(true_ids, 5000)\n",
    "selected_false_ids = random.sample(false_ids, 5000)\n",
    "\n",
    "# Combine the lists\n",
    "selected_ids = selected_true_ids + selected_false_ids\n",
    "\n",
    "# Shuffle the combined list to mix True and False IDs\n",
    "random.shuffle(selected_ids)\n",
    "\n",
    "# Save the IDs to a file in json format\n",
    "import json\n",
    "with open('../data/imagefilenames.json', 'w') as file:\n",
    "    json.dump(selected_ids, file)\n",
    "#update fishnet_labels_in_bucket.csv to only include the selected_ids\n",
    "filtered_df = df[df['img_id'].isin(selected_ids)]\n",
    "# Path for the new CSV file\n",
    "new_csv_file_path = '../data/fishnet_labels_FINAL.csv'\n",
    "# Save the filtered DataFrame to a new CSV file\n",
    "filtered_df.to_csv(new_csv_file_path, index=False)\n",
    "print(\"Filtered CSV saved as:\", new_csv_file_path)\n",
    "\n",
    "\n",
    "\n",
    "print(\"Saved 10,000 image IDs to imageIDs.txt\")\n"
   ]
  },
  {
   "cell_type": "code",
   "execution_count": 36,
   "metadata": {},
   "outputs": [
    {
     "name": "stdout",
     "output_type": "stream",
     "text": [
      "Number of unique img_id: 10000\n"
     ]
    }
   ],
   "source": [
    "imageSet = process_data('../data/fishnet_labels_FINAL.csv')\n",
    "print(\"Number of unique img_id:\", len(imageSet))\n"
   ]
  },
  {
   "cell_type": "code",
   "execution_count": 39,
   "metadata": {},
   "outputs": [
    {
     "name": "stdout",
     "output_type": "stream",
     "text": [
      "da9120a6-db28-11ea-9d63-ef6f2e9f3726 [False, [(('196', '314'), ('688', '749'), 'Human'), (('561', '801'), ('484', '749'), 'Human'), (('918', '1108'), ('586', '749'), 'Human')]]\n",
      "da4e942a-db28-11ea-b98f-df975a039489 [True, [(('0', '234'), ('0', '404'), 'Human'), (('140', '460'), ('0', '340'), 'Human'), (('846', '1121'), ('111', '245'), 'Swordfish'), (('1097', '1236'), ('10', '204'), 'Human')]]\n",
      "dac59b6a-db28-11ea-bce5-ef781d7c8eab [True, [(('620', '868'), ('192', '333'), 'Albacore'), (('690', '889'), ('0', '245'), 'Human')]]\n",
      "94da7cec-23f0-11e9-b15f-37a875ab36ff [False, [(('316', '657'), ('0', '520'), 'Human')]]\n",
      "fc71ac50-5952-11ec-b6a8-cff8ba66b119 [True, [(('360', '432'), ('281', '365'), 'Albacore')]]\n",
      "Number of unique img_id: 10000\n"
     ]
    }
   ],
   "source": [
    "#print 5 key value pairs\n",
    "count = 0\n",
    "for key in imageSet.keys():\n",
    "    if count < 5:\n",
    "        print(key, (imageSet[key]))\n",
    "        count += 1\n",
    "print(\"Number of unique img_id:\", len(imageSet))"
   ]
  },
  {
   "cell_type": "code",
   "execution_count": 40,
   "metadata": {},
   "outputs": [],
   "source": [
    "# Convert the dictionary to a JSON string\n",
    "json_data = json.dumps(imageSet, indent=4)\n",
    "\n",
    "# Save the JSON data to a file\n",
    "with open('../data/labels.json', 'w') as file:\n",
    "    file.write(json_data)"
   ]
  },
  {
   "cell_type": "code",
   "execution_count": null,
   "metadata": {},
   "outputs": [],
   "source": []
  }
 ],
 "metadata": {
  "kernelspec": {
   "display_name": "Python 3",
   "language": "python",
   "name": "python3"
  },
  "language_info": {
   "codemirror_mode": {
    "name": "ipython",
    "version": 3
   },
   "file_extension": ".py",
   "mimetype": "text/x-python",
   "name": "python",
   "nbconvert_exporter": "python",
   "pygments_lexer": "ipython3",
   "version": "3.9.6"
  },
  "orig_nbformat": 4
 },
 "nbformat": 4,
 "nbformat_minor": 2
}
