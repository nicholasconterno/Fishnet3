{
 "cells": [
  {
   "cell_type": "code",
   "execution_count": 1,
   "metadata": {},
   "outputs": [],
   "source": [
    "import torch\n",
    "import json"
   ]
  },
  {
   "cell_type": "code",
   "execution_count": 9,
   "metadata": {},
   "outputs": [
    {
     "name": "stdout",
     "output_type": "stream",
     "text": [
      "<class 'dict'>\n",
      "da9120a6-db28-11ea-9d63-ef6f2e9f3726\n",
      "[False, [[['196', '314'], ['688', '749'], 'Human'], [['561', '801'], ['484', '749'], 'Human'], [['918', '1108'], ['586', '749'], 'Human']]]\n",
      "10000\n"
     ]
    }
   ],
   "source": [
    "labels = json.load(open(\"../data/labels.json\"))\n",
    "\n",
    "print(type(labels))\n",
    "for i in labels:\n",
    "    print(i)\n",
    "    print(labels[i])\n",
    "    break\n",
    "\n",
    "print(len(labels))"
   ]
  },
  {
   "cell_type": "code",
   "execution_count": null,
   "metadata": {},
   "outputs": [],
   "source": []
  }
 ],
 "metadata": {
  "kernelspec": {
   "display_name": "base",
   "language": "python",
   "name": "python3"
  },
  "language_info": {
   "codemirror_mode": {
    "name": "ipython",
    "version": 3
   },
   "file_extension": ".py",
   "mimetype": "text/x-python",
   "name": "python",
   "nbconvert_exporter": "python",
   "pygments_lexer": "ipython3",
   "version": "3.9.12"
  }
 },
 "nbformat": 4,
 "nbformat_minor": 2
}
